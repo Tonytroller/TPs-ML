{
  "cells": [
    {
      "cell_type": "markdown",
      "metadata": {
        "id": "view-in-github",
        "colab_type": "text"
      },
      "source": [
        "<a href=\"https://colab.research.google.com/github/Tonytroller/TPs-ML/blob/main/TP3%20ML%20v2.ipynb\" target=\"_parent\"><img src=\"https://colab.research.google.com/assets/colab-badge.svg\" alt=\"Open In Colab\"/></a>"
      ]
    },
    {
      "cell_type": "code",
      "source": [
        "import matplotlib\n",
        "import numpy as np\n",
        "import tensorflow\n",
        "import keras\n",
        "from tensorflow.keras.models import Sequential\n",
        "from tensorflow.keras.layers import Conv2D, MaxPooling2D, Flatten, Dense\n",
        "from keras.layers import Dropout\n",
        "import numpy as np\n",
        "import matplotlib.pyplot as plt\n",
        "from sklearn.metrics import confusion_matrix"
      ],
      "metadata": {
        "id": "5LA6a8CxJVak"
      },
      "execution_count": 1,
      "outputs": []
    },
    {
      "cell_type": "code",
      "source": [
        "from google.colab import drive\n",
        "import os\n",
        "\n",
        "# Monter Google Drive dans Colab\n",
        "drive.mount('/content/gdrive')\n",
        "\n",
        "# Spécifier le chemin d'accès au dossier sur Google Drive\n",
        "trainData = \"/content/gdrive/MyDrive/Colab Notebooks/cats_and_dogs/train\"\n",
        "testData = \"/content/gdrive/MyDrive/Colab Notebooks/cats_and_dogs/test\""
      ],
      "metadata": {
        "id": "u29HKYMpLIVH",
        "outputId": "30916134-8aca-499e-d19b-0fb9b5d68a49",
        "colab": {
          "base_uri": "https://localhost:8080/"
        }
      },
      "execution_count": 2,
      "outputs": [
        {
          "output_type": "stream",
          "name": "stdout",
          "text": [
            "Mounted at /content/gdrive\n"
          ]
        }
      ]
    },
    {
      "cell_type": "code",
      "source": [
        "train_datagen = keras.preprocessing.image.ImageDataGenerator(\n",
        "    rescale=1./255,\n",
        "    #rotation_range=20,  # rotation de l'image de 20 degrés\n",
        "    width_shift_range=0.1,  # translation horizontale de 20% de la largeur de l'image\n",
        "    height_shift_range=0.1,  # translation verticale de 20% de la hauteur de l'image\n",
        "    #brightness_range=(3,5),  # changement de luminosité\n",
        "    shear_range=0.2,\n",
        "    zoom_range=0.2,\n",
        "    horizontal_flip=True,  # retournement horizontal de l'image\n",
        "    vertical_flip=True,   # retournement vertical de l'image\n",
        "    #fill_mode='nearest'  # mode de remplissage pour les pixels nouvellement créés\n",
        ")\n",
        "\n",
        "train_generator = train_datagen.flow_from_directory(\n",
        "    trainData,\n",
        "    target_size=(150, 150),\n",
        "    batch_size=32,\n",
        "    class_mode='binary',\n",
        ")"
      ],
      "metadata": {
        "id": "dhBA4EeqMDJh",
        "outputId": "d2e8d2e7-cc9e-427f-b9d9-4fa1d568960b",
        "colab": {
          "base_uri": "https://localhost:8080/"
        }
      },
      "execution_count": 3,
      "outputs": [
        {
          "output_type": "stream",
          "name": "stdout",
          "text": [
            "Found 557 images belonging to 2 classes.\n"
          ]
        }
      ]
    },
    {
      "cell_type": "code",
      "source": [
        "test_datagen = keras.preprocessing.image.ImageDataGenerator(\n",
        "    rescale=1./255\n",
        ")\n",
        "\n",
        "test_generator = test_datagen.flow_from_directory(\n",
        "    testData,\n",
        "    target_size=(150, 150),\n",
        "    batch_size=32,\n",
        "    class_mode='binary',\n",
        ")"
      ],
      "metadata": {
        "id": "JlAaKZ8tSwCO",
        "outputId": "c0ab66a7-d14e-4939-debc-2782f244faad",
        "colab": {
          "base_uri": "https://localhost:8080/"
        }
      },
      "execution_count": 4,
      "outputs": [
        {
          "output_type": "stream",
          "name": "stdout",
          "text": [
            "Found 140 images belonging to 2 classes.\n"
          ]
        }
      ]
    },
    {
      "cell_type": "code",
      "source": [
        "model = Sequential()\n",
        "model.add(Conv2D(32, (3, 3), activation='relu', input_shape=(150, 150, 3)))\n",
        "model.add(MaxPooling2D((2, 2)))\n",
        "\n",
        "model.add(Conv2D(64, (3, 3), activation='relu'))\n",
        "model.add(MaxPooling2D((2, 2)))\n",
        "\n",
        "model.add(Conv2D(128, (3, 3), activation='relu'))\n",
        "model.add(MaxPooling2D((2, 2)))\n",
        "\n",
        "model.add(Dropout(0.25))\n",
        "model.add(Flatten())\n",
        "model.add(Dense(2, activation='softmax'))\n",
        "\n",
        "model.compile(loss='binary_crossentropy',\n",
        "              optimizer=tensorflow.keras.optimizers.Adam(learning_rate=1e-3),\n",
        "              metrics=['accuracy'])"
      ],
      "metadata": {
        "id": "DHTGASJKapii"
      },
      "execution_count": 17,
      "outputs": []
    },
    {
      "cell_type": "code",
      "source": [
        "TrainModel=model.fit(\n",
        "    train_generator,\n",
        "    steps_per_epoch=len(train_generator),\n",
        "    epochs=150\n",
        ")"
      ],
      "metadata": {
        "id": "w0PGkI7gTZ5z",
        "outputId": "cb742da0-3158-428a-d6ac-26e0da0dabd7",
        "colab": {
          "base_uri": "https://localhost:8080/"
        }
      },
      "execution_count": 19,
      "outputs": [
        {
          "output_type": "stream",
          "name": "stdout",
          "text": [
            "Epoch 1/150\n",
            "18/18 [==============================] - 41s 2s/step - loss: 0.6776 - accuracy: 0.5835\n",
            "Epoch 2/150\n",
            "18/18 [==============================] - 38s 2s/step - loss: 0.6766 - accuracy: 0.5996\n",
            "Epoch 3/150\n",
            "18/18 [==============================] - 40s 2s/step - loss: 0.6698 - accuracy: 0.5943\n",
            "Epoch 4/150\n",
            "18/18 [==============================] - 41s 2s/step - loss: 0.6708 - accuracy: 0.6122\n",
            "Epoch 5/150\n",
            "18/18 [==============================] - 46s 3s/step - loss: 0.6566 - accuracy: 0.6212\n",
            "Epoch 6/150\n",
            "18/18 [==============================] - 38s 2s/step - loss: 0.6330 - accuracy: 0.6571\n",
            "Epoch 7/150\n",
            "18/18 [==============================] - 39s 2s/step - loss: 0.6230 - accuracy: 0.6517\n",
            "Epoch 8/150\n",
            "18/18 [==============================] - 41s 2s/step - loss: 0.6266 - accuracy: 0.6409\n",
            "Epoch 9/150\n",
            "18/18 [==============================] - 40s 2s/step - loss: 0.5980 - accuracy: 0.6679\n",
            "Epoch 10/150\n",
            "18/18 [==============================] - 38s 2s/step - loss: 0.6013 - accuracy: 0.6912\n",
            "Epoch 11/150\n",
            "18/18 [==============================] - 40s 2s/step - loss: 0.5753 - accuracy: 0.6912\n",
            "Epoch 12/150\n",
            "18/18 [==============================] - 40s 2s/step - loss: 0.5767 - accuracy: 0.6912\n",
            "Epoch 13/150\n",
            "18/18 [==============================] - 44s 2s/step - loss: 0.5893 - accuracy: 0.6912\n",
            "Epoch 14/150\n",
            "18/18 [==============================] - 39s 2s/step - loss: 0.5557 - accuracy: 0.7056\n",
            "Epoch 15/150\n",
            "18/18 [==============================] - 40s 2s/step - loss: 0.5618 - accuracy: 0.7110\n",
            "Epoch 16/150\n",
            "18/18 [==============================] - 38s 2s/step - loss: 0.5638 - accuracy: 0.7056\n",
            "Epoch 17/150\n",
            "18/18 [==============================] - 41s 2s/step - loss: 0.5496 - accuracy: 0.7020\n",
            "Epoch 18/150\n",
            "18/18 [==============================] - 41s 2s/step - loss: 0.5414 - accuracy: 0.7235\n",
            "Epoch 19/150\n",
            "18/18 [==============================] - 38s 2s/step - loss: 0.5716 - accuracy: 0.6984\n",
            "Epoch 20/150\n",
            "18/18 [==============================] - 39s 2s/step - loss: 0.5592 - accuracy: 0.6984\n",
            "Epoch 21/150\n",
            "18/18 [==============================] - 40s 2s/step - loss: 0.5360 - accuracy: 0.7235\n",
            "Epoch 22/150\n",
            "18/18 [==============================] - 38s 2s/step - loss: 0.5571 - accuracy: 0.6930\n",
            "Epoch 23/150\n",
            "18/18 [==============================] - 39s 2s/step - loss: 0.5889 - accuracy: 0.6894\n",
            "Epoch 24/150\n",
            "18/18 [==============================] - 41s 2s/step - loss: 0.5712 - accuracy: 0.7038\n",
            "Epoch 25/150\n",
            "18/18 [==============================] - 40s 2s/step - loss: 0.5388 - accuracy: 0.7397\n",
            "Epoch 26/150\n",
            "18/18 [==============================] - 39s 2s/step - loss: 0.5287 - accuracy: 0.7289\n",
            "Epoch 27/150\n",
            "18/18 [==============================] - 39s 2s/step - loss: 0.5467 - accuracy: 0.7092\n",
            "Epoch 28/150\n",
            "18/18 [==============================] - 40s 2s/step - loss: 0.5586 - accuracy: 0.7056\n",
            "Epoch 29/150\n",
            "18/18 [==============================] - 38s 2s/step - loss: 0.5277 - accuracy: 0.7127\n",
            "Epoch 30/150\n",
            "18/18 [==============================] - 40s 2s/step - loss: 0.5090 - accuracy: 0.7181\n",
            "Epoch 31/150\n",
            "18/18 [==============================] - 39s 2s/step - loss: 0.5099 - accuracy: 0.7343\n",
            "Epoch 32/150\n",
            "18/18 [==============================] - 39s 2s/step - loss: 0.5202 - accuracy: 0.7540\n",
            "Epoch 33/150\n",
            "18/18 [==============================] - 40s 2s/step - loss: 0.5248 - accuracy: 0.7397\n",
            "Epoch 34/150\n",
            "18/18 [==============================] - 38s 2s/step - loss: 0.4874 - accuracy: 0.7666\n",
            "Epoch 35/150\n",
            "18/18 [==============================] - 40s 2s/step - loss: 0.4794 - accuracy: 0.7343\n",
            "Epoch 36/150\n",
            "18/18 [==============================] - 40s 2s/step - loss: 0.5031 - accuracy: 0.7379\n",
            "Epoch 37/150\n",
            "18/18 [==============================] - 38s 2s/step - loss: 0.4910 - accuracy: 0.7504\n",
            "Epoch 38/150\n",
            "18/18 [==============================] - 40s 2s/step - loss: 0.4723 - accuracy: 0.7810\n",
            "Epoch 39/150\n",
            "18/18 [==============================] - 40s 2s/step - loss: 0.5027 - accuracy: 0.7487\n",
            "Epoch 40/150\n",
            "18/18 [==============================] - 38s 2s/step - loss: 0.4873 - accuracy: 0.7522\n",
            "Epoch 41/150\n",
            "18/18 [==============================] - 40s 2s/step - loss: 0.4595 - accuracy: 0.7738\n",
            "Epoch 42/150\n",
            "18/18 [==============================] - 39s 2s/step - loss: 0.5030 - accuracy: 0.7397\n",
            "Epoch 43/150\n",
            "18/18 [==============================] - 39s 2s/step - loss: 0.4921 - accuracy: 0.7612\n",
            "Epoch 44/150\n",
            "18/18 [==============================] - 40s 2s/step - loss: 0.4830 - accuracy: 0.7504\n",
            "Epoch 45/150\n",
            "18/18 [==============================] - 38s 2s/step - loss: 0.4873 - accuracy: 0.7415\n",
            "Epoch 46/150\n",
            "18/18 [==============================] - 40s 2s/step - loss: 0.4797 - accuracy: 0.7630\n",
            "Epoch 47/150\n",
            "18/18 [==============================] - 39s 2s/step - loss: 0.4327 - accuracy: 0.8007\n",
            "Epoch 48/150\n",
            "18/18 [==============================] - 38s 2s/step - loss: 0.4785 - accuracy: 0.7846\n",
            "Epoch 49/150\n",
            "18/18 [==============================] - 40s 2s/step - loss: 0.4805 - accuracy: 0.7648\n",
            "Epoch 50/150\n",
            "18/18 [==============================] - 38s 2s/step - loss: 0.4606 - accuracy: 0.7864\n",
            "Epoch 51/150\n",
            "18/18 [==============================] - 38s 2s/step - loss: 0.4555 - accuracy: 0.7846\n",
            "Epoch 52/150\n",
            "18/18 [==============================] - 39s 2s/step - loss: 0.4376 - accuracy: 0.7792\n",
            "Epoch 53/150\n",
            "18/18 [==============================] - 40s 2s/step - loss: 0.4513 - accuracy: 0.7792\n",
            "Epoch 54/150\n",
            "18/18 [==============================] - 38s 2s/step - loss: 0.4354 - accuracy: 0.7792\n",
            "Epoch 55/150\n",
            "18/18 [==============================] - 38s 2s/step - loss: 0.4449 - accuracy: 0.8007\n",
            "Epoch 56/150\n",
            "18/18 [==============================] - 40s 2s/step - loss: 0.4386 - accuracy: 0.7810\n",
            "Epoch 57/150\n",
            "18/18 [==============================] - 41s 2s/step - loss: 0.4498 - accuracy: 0.8079\n",
            "Epoch 58/150\n",
            "18/18 [==============================] - 38s 2s/step - loss: 0.4468 - accuracy: 0.7666\n",
            "Epoch 59/150\n",
            "18/18 [==============================] - 39s 2s/step - loss: 0.4502 - accuracy: 0.8187\n",
            "Epoch 60/150\n",
            "18/18 [==============================] - 40s 2s/step - loss: 0.4140 - accuracy: 0.7989\n",
            "Epoch 61/150\n",
            "18/18 [==============================] - 38s 2s/step - loss: 0.3947 - accuracy: 0.8169\n",
            "Epoch 62/150\n",
            "18/18 [==============================] - 38s 2s/step - loss: 0.4091 - accuracy: 0.8133\n",
            "Epoch 63/150\n",
            "18/18 [==============================] - 40s 2s/step - loss: 0.3958 - accuracy: 0.8151\n",
            "Epoch 64/150\n",
            "18/18 [==============================] - 39s 2s/step - loss: 0.4428 - accuracy: 0.7935\n",
            "Epoch 65/150\n",
            "18/18 [==============================] - 38s 2s/step - loss: 0.4341 - accuracy: 0.7935\n",
            "Epoch 66/150\n",
            "18/18 [==============================] - 40s 2s/step - loss: 0.4082 - accuracy: 0.8276\n",
            "Epoch 67/150\n",
            "18/18 [==============================] - 38s 2s/step - loss: 0.4040 - accuracy: 0.8187\n",
            "Epoch 68/150\n",
            "18/18 [==============================] - 38s 2s/step - loss: 0.3805 - accuracy: 0.8241\n",
            "Epoch 69/150\n",
            "18/18 [==============================] - 38s 2s/step - loss: 0.3931 - accuracy: 0.8205\n",
            "Epoch 70/150\n",
            "18/18 [==============================] - 40s 2s/step - loss: 0.4080 - accuracy: 0.8115\n",
            "Epoch 71/150\n",
            "18/18 [==============================] - 38s 2s/step - loss: 0.3603 - accuracy: 0.8438\n",
            "Epoch 72/150\n",
            "18/18 [==============================] - 38s 2s/step - loss: 0.3541 - accuracy: 0.8348\n",
            "Epoch 73/150\n",
            "18/18 [==============================] - 39s 2s/step - loss: 0.3641 - accuracy: 0.8294\n",
            "Epoch 74/150\n",
            "18/18 [==============================] - 39s 2s/step - loss: 0.3664 - accuracy: 0.8312\n",
            "Epoch 75/150\n",
            "18/18 [==============================] - 38s 2s/step - loss: 0.3707 - accuracy: 0.8528\n",
            "Epoch 76/150\n",
            "18/18 [==============================] - 38s 2s/step - loss: 0.3389 - accuracy: 0.8438\n",
            "Epoch 77/150\n",
            "18/18 [==============================] - 40s 2s/step - loss: 0.3469 - accuracy: 0.8492\n",
            "Epoch 78/150\n",
            "18/18 [==============================] - 38s 2s/step - loss: 0.3517 - accuracy: 0.8456\n",
            "Epoch 79/150\n",
            "18/18 [==============================] - 40s 2s/step - loss: 0.3540 - accuracy: 0.8276\n",
            "Epoch 80/150\n",
            "18/18 [==============================] - 38s 2s/step - loss: 0.3295 - accuracy: 0.8582\n",
            "Epoch 81/150\n",
            "18/18 [==============================] - 40s 2s/step - loss: 0.3873 - accuracy: 0.7989\n",
            "Epoch 82/150\n",
            "18/18 [==============================] - 38s 2s/step - loss: 0.3081 - accuracy: 0.8689\n",
            "Epoch 83/150\n",
            "18/18 [==============================] - 38s 2s/step - loss: 0.3134 - accuracy: 0.8528\n",
            "Epoch 84/150\n",
            "18/18 [==============================] - 38s 2s/step - loss: 0.3531 - accuracy: 0.8330\n",
            "Epoch 85/150\n",
            "18/18 [==============================] - 40s 2s/step - loss: 0.3108 - accuracy: 0.8618\n",
            "Epoch 86/150\n",
            "18/18 [==============================] - 39s 2s/step - loss: 0.3237 - accuracy: 0.8510\n",
            "Epoch 87/150\n",
            "18/18 [==============================] - 37s 2s/step - loss: 0.3241 - accuracy: 0.8474\n",
            "Epoch 88/150\n",
            "18/18 [==============================] - 40s 2s/step - loss: 0.3136 - accuracy: 0.8618\n",
            "Epoch 89/150\n",
            "18/18 [==============================] - 38s 2s/step - loss: 0.3097 - accuracy: 0.8420\n",
            "Epoch 90/150\n",
            "18/18 [==============================] - 38s 2s/step - loss: 0.3053 - accuracy: 0.8654\n",
            "Epoch 91/150\n",
            "18/18 [==============================] - 38s 2s/step - loss: 0.3115 - accuracy: 0.8528\n",
            "Epoch 92/150\n",
            "18/18 [==============================] - 40s 2s/step - loss: 0.3242 - accuracy: 0.8366\n",
            "Epoch 93/150\n",
            "18/18 [==============================] - 37s 2s/step - loss: 0.2835 - accuracy: 0.8689\n",
            "Epoch 94/150\n",
            "18/18 [==============================] - 38s 2s/step - loss: 0.2974 - accuracy: 0.8636\n",
            "Epoch 95/150\n",
            "18/18 [==============================] - 39s 2s/step - loss: 0.3007 - accuracy: 0.8725\n",
            "Epoch 96/150\n",
            "18/18 [==============================] - 39s 2s/step - loss: 0.2805 - accuracy: 0.8761\n",
            "Epoch 97/150\n",
            "18/18 [==============================] - 37s 2s/step - loss: 0.3066 - accuracy: 0.8600\n",
            "Epoch 98/150\n",
            "18/18 [==============================] - 38s 2s/step - loss: 0.3462 - accuracy: 0.8420\n",
            "Epoch 99/150\n",
            "18/18 [==============================] - 40s 2s/step - loss: 0.2644 - accuracy: 0.8869\n",
            "Epoch 100/150\n",
            "18/18 [==============================] - 39s 2s/step - loss: 0.2999 - accuracy: 0.8725\n",
            "Epoch 101/150\n",
            "18/18 [==============================] - 38s 2s/step - loss: 0.2881 - accuracy: 0.8600\n",
            "Epoch 102/150\n",
            "18/18 [==============================] - 40s 2s/step - loss: 0.2920 - accuracy: 0.8779\n",
            "Epoch 103/150\n",
            "18/18 [==============================] - 38s 2s/step - loss: 0.3211 - accuracy: 0.8510\n",
            "Epoch 104/150\n",
            "18/18 [==============================] - 38s 2s/step - loss: 0.3096 - accuracy: 0.8582\n",
            "Epoch 105/150\n",
            "18/18 [==============================] - 38s 2s/step - loss: 0.2779 - accuracy: 0.8779\n",
            "Epoch 106/150\n",
            "18/18 [==============================] - 40s 2s/step - loss: 0.2596 - accuracy: 0.8815\n",
            "Epoch 107/150\n",
            "18/18 [==============================] - 37s 2s/step - loss: 0.2508 - accuracy: 0.8995\n",
            "Epoch 108/150\n",
            "18/18 [==============================] - 39s 2s/step - loss: 0.2462 - accuracy: 0.8941\n",
            "Epoch 109/150\n",
            "18/18 [==============================] - 39s 2s/step - loss: 0.2618 - accuracy: 0.8833\n",
            "Epoch 110/150\n",
            "18/18 [==============================] - 38s 2s/step - loss: 0.2535 - accuracy: 0.8815\n",
            "Epoch 111/150\n",
            "18/18 [==============================] - 38s 2s/step - loss: 0.2771 - accuracy: 0.8887\n",
            "Epoch 112/150\n",
            "18/18 [==============================] - 40s 2s/step - loss: 0.2659 - accuracy: 0.8869\n",
            "Epoch 113/150\n",
            "18/18 [==============================] - 38s 2s/step - loss: 0.2451 - accuracy: 0.9048\n",
            "Epoch 114/150\n",
            "18/18 [==============================] - 40s 2s/step - loss: 0.2298 - accuracy: 0.9138\n",
            "Epoch 115/150\n",
            "18/18 [==============================] - 39s 2s/step - loss: 0.2390 - accuracy: 0.9013\n",
            "Epoch 116/150\n",
            "18/18 [==============================] - 38s 2s/step - loss: 0.2476 - accuracy: 0.8923\n",
            "Epoch 117/150\n",
            "18/18 [==============================] - 40s 2s/step - loss: 0.2485 - accuracy: 0.9013\n",
            "Epoch 118/150\n",
            "18/18 [==============================] - 40s 2s/step - loss: 0.2535 - accuracy: 0.8959\n",
            "Epoch 119/150\n",
            "18/18 [==============================] - 38s 2s/step - loss: 0.2609 - accuracy: 0.8941\n",
            "Epoch 120/150\n",
            "18/18 [==============================] - 40s 2s/step - loss: 0.2574 - accuracy: 0.8779\n",
            "Epoch 121/150\n",
            "18/18 [==============================] - 39s 2s/step - loss: 0.2375 - accuracy: 0.9048\n",
            "Epoch 122/150\n",
            "18/18 [==============================] - 38s 2s/step - loss: 0.2013 - accuracy: 0.9138\n",
            "Epoch 123/150\n",
            "18/18 [==============================] - 40s 2s/step - loss: 0.2344 - accuracy: 0.8887\n",
            "Epoch 124/150\n",
            "18/18 [==============================] - 38s 2s/step - loss: 0.2355 - accuracy: 0.8941\n",
            "Epoch 125/150\n",
            "18/18 [==============================] - 38s 2s/step - loss: 0.1907 - accuracy: 0.9246\n",
            "Epoch 126/150\n",
            "18/18 [==============================] - 38s 2s/step - loss: 0.2131 - accuracy: 0.9066\n",
            "Epoch 127/150\n",
            "18/18 [==============================] - 40s 2s/step - loss: 0.1809 - accuracy: 0.9210\n",
            "Epoch 128/150\n",
            "18/18 [==============================] - 38s 2s/step - loss: 0.2201 - accuracy: 0.9174\n",
            "Epoch 129/150\n",
            "18/18 [==============================] - 38s 2s/step - loss: 0.2272 - accuracy: 0.9084\n",
            "Epoch 130/150\n",
            "18/18 [==============================] - 40s 2s/step - loss: 0.1812 - accuracy: 0.9425\n",
            "Epoch 131/150\n",
            "18/18 [==============================] - 37s 2s/step - loss: 0.1715 - accuracy: 0.9336\n",
            "Epoch 132/150\n",
            "18/18 [==============================] - 39s 2s/step - loss: 0.1685 - accuracy: 0.9300\n",
            "Epoch 133/150\n",
            "18/18 [==============================] - 39s 2s/step - loss: 0.1937 - accuracy: 0.9210\n",
            "Epoch 134/150\n",
            "18/18 [==============================] - 38s 2s/step - loss: 0.2317 - accuracy: 0.9066\n",
            "Epoch 135/150\n",
            "18/18 [==============================] - 38s 2s/step - loss: 0.2468 - accuracy: 0.8869\n",
            "Epoch 136/150\n",
            "18/18 [==============================] - 40s 2s/step - loss: 0.2080 - accuracy: 0.9156\n",
            "Epoch 137/150\n",
            "18/18 [==============================] - 38s 2s/step - loss: 0.2323 - accuracy: 0.9048\n",
            "Epoch 138/150\n",
            "18/18 [==============================] - 40s 2s/step - loss: 0.2065 - accuracy: 0.9174\n",
            "Epoch 139/150\n",
            "18/18 [==============================] - 40s 2s/step - loss: 0.2076 - accuracy: 0.8959\n",
            "Epoch 140/150\n",
            "18/18 [==============================] - 38s 2s/step - loss: 0.1767 - accuracy: 0.9318\n",
            "Epoch 141/150\n",
            "18/18 [==============================] - 40s 2s/step - loss: 0.2032 - accuracy: 0.9264\n",
            "Epoch 142/150\n",
            "18/18 [==============================] - 39s 2s/step - loss: 0.2402 - accuracy: 0.9031\n",
            "Epoch 143/150\n",
            "18/18 [==============================] - 39s 2s/step - loss: 0.2200 - accuracy: 0.9084\n",
            "Epoch 144/150\n",
            "18/18 [==============================] - 40s 2s/step - loss: 0.1841 - accuracy: 0.9210\n",
            "Epoch 145/150\n",
            "18/18 [==============================] - 38s 2s/step - loss: 0.2166 - accuracy: 0.9120\n",
            "Epoch 146/150\n",
            "18/18 [==============================] - 38s 2s/step - loss: 0.2068 - accuracy: 0.9084\n",
            "Epoch 147/150\n",
            "18/18 [==============================] - 40s 2s/step - loss: 0.2034 - accuracy: 0.9156\n",
            "Epoch 148/150\n",
            "18/18 [==============================] - 38s 2s/step - loss: 0.2263 - accuracy: 0.8959\n",
            "Epoch 149/150\n",
            "18/18 [==============================] - 38s 2s/step - loss: 0.2009 - accuracy: 0.9066\n",
            "Epoch 150/150\n",
            "18/18 [==============================] - 39s 2s/step - loss: 0.1937 - accuracy: 0.9282\n"
          ]
        }
      ]
    },
    {
      "cell_type": "code",
      "source": [
        "#preds = model.predict(test_generator)\n",
        "loss, accuracy = model.evaluate(test_generator)\n",
        "\n",
        "print('Loss on test set:', loss)\n",
        "print('Accuracy on test set:', accuracy)"
      ],
      "metadata": {
        "id": "9G96zrZ8Uh6_",
        "outputId": "9099a586-08c3-493c-81a6-4af3d55a1ec3",
        "colab": {
          "base_uri": "https://localhost:8080/"
        }
      },
      "execution_count": null,
      "outputs": [
        {
          "output_type": "stream",
          "name": "stdout",
          "text": [
            "5/5 [==============================] - 2s 375ms/step - loss: 0.6743 - accuracy: 0.6214\n",
            "Loss on test set: 0.6743487119674683\n",
            "Accuracy on test set: 0.6214285492897034\n"
          ]
        }
      ]
    },
    {
      "cell_type": "code",
      "source": [
        "# Prédiction sur les données de test\n",
        "y_pred = model.predict(test_generator)\n",
        "y_pred = np.round(y_pred)\n",
        "\n",
        "# Affichage de la matrice de confusion\n",
        "cm = confusion_matrix(test_generator.classes, y_pred)\n",
        "plt.imshow(cm, cmap=plt.cm.Blues)\n",
        "plt.title('Matrice de confusion')\n",
        "plt.colorbar()\n",
        "tick_marks = np.arange(len(test_generator.class_indices))\n",
        "plt.xticks(tick_marks, test_generator.class_indices.keys(), rotation=45)\n",
        "plt.yticks(tick_marks, test_generator.class_indices.keys())\n",
        "plt.xlabel('Classe prédite')\n",
        "plt.ylabel('Classe réelle')\n",
        "plt.show()\n",
        "\n",
        "# Affichage de l'accuracy sur les données de test\n",
        "test_loss, test_acc = model.evaluate(test_generator, verbose=2)\n",
        "print('Accuracy sur les données de test :', test_acc)"
      ],
      "metadata": {
        "id": "NLAHZu0lU8fL",
        "outputId": "19c2fcf0-4b9a-4d28-a668-8db0f26cf54c",
        "colab": {
          "base_uri": "https://localhost:8080/",
          "height": 544
        }
      },
      "execution_count": null,
      "outputs": [
        {
          "output_type": "stream",
          "name": "stdout",
          "text": [
            "5/5 [==============================] - 3s 482ms/step\n"
          ]
        },
        {
          "output_type": "display_data",
          "data": {
            "text/plain": [
              "<Figure size 640x480 with 2 Axes>"
            ],
            "image/png": "[encoded data removed]"
          },
          "metadata": {}
        },
        {
          "output_type": "stream",
          "name": "stdout",
          "text": [
            "5/5 - 3s - loss: 0.6743 - accuracy: 0.6214 - 3s/epoch - 574ms/step\n",
            "Accuracy sur les données de test : 0.6214285492897034\n"
          ]
        }
      ]
    },
    {
      "cell_type": "code",
      "source": [
        "# Affichage de la courbe d'évolution de l'accuracy et de la loss sur les epochs\n",
        "plt.plot(TrainModel.history['accuracy'])\n",
        "plt.plot(TrainModel.history['loss'])\n",
        "plt.title('Evolution de l\\'accuracy et de la loss sur les epochs')\n",
        "plt.ylabel('Accuracy/Loss')\n",
        "plt.xlabel('Epoch')\n",
        "plt.legend(['train_accuracy', 'val_accuracy', 'train_loss', 'val_loss'], loc='upper left')\n",
        "plt.show()"
      ],
      "metadata": {
        "id": "_SONgXXfVdQB",
        "outputId": "23a2e934-bcc5-4d25-b9d2-5e627741cf1a",
        "colab": {
          "base_uri": "https://localhost:8080/",
          "height": 472
        }
      },
      "execution_count": 10,
      "outputs": [
        {
          "output_type": "display_data",
          "data": {
            "text/plain": [
              "<Figure size 640x480 with 1 Axes>"
            ],
            "image/png": "[encoded data removed]"
          },
          "metadata": {}
        }
      ]
    }
  ],
  "metadata": {
    "colab": {
      "name": "Bienvenue dans Colaboratory",
      "toc_visible": true,
      "provenance": [],
      "include_colab_link": true
    },
    "kernelspec": {
      "display_name": "Python 3",
      "name": "python3"
    }
  },
  "nbformat": 4,
  "nbformat_minor": 0
}